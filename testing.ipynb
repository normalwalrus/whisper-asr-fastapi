{
 "cells": [
  {
   "cell_type": "markdown",
   "metadata": {},
   "source": [
    "[0.0 - 99.24] : I'm here to talk about something huge, something that's going to make our defense great again. And that's artificial intelligence or AI. Believe me, it's incredible. Now, some people might ask, why do we need AI? Let me tell you, we need it more than ever. Our enemies are getting smarter using all sorts of technology to try and outsmart U.S. But we're not going."
   ]
  },
  {
   "cell_type": "code",
   "execution_count": 33,
   "metadata": {},
   "outputs": [
    {
     "name": "stdout",
     "output_type": "stream",
     "text": [
      "1587840\n"
     ]
    },
    {
     "data": {
      "text/plain": [
       "'{\"status_code\":200,\"transcription\":\"[\\\\\" I\\'m here to talk about something huge, something that\\'s going to make our defense great again. And that\\'s artificial intelligence or AI. Believe me, it\\'s incredible. Now, some people might ask, why do we need AI? Let me tell you, we need it more than ever. Our enemies are getting smarter using all sorts of technology to try and outsmart U.S. But we\\'re not going.\\\\\"]\"}'"
      ]
     },
     "execution_count": 33,
     "metadata": {},
     "output_type": "execute_result"
    }
   ],
   "source": [
    "import requests\n",
    "import librosa\n",
    "import json\n",
    "import numpy as np\n",
    "\n",
    "SAMPLE_RATE = 16000\n",
    "SERVICE_URL = \"http://localhost:8000/v1/transcribe\"\n",
    "FILENAME = \"examples/trump_full1.wav\"\n",
    "\n",
    "audio, _ = librosa.load(path=FILENAME, sr = SAMPLE_RATE, mono=True)\n",
    "audio = audio.tolist()\n",
    "print(len(audio))\n",
    "\n",
    "audio_bytes = json.dumps({\"array\": audio})\n",
    "response = requests.post(SERVICE_URL, audio_bytes)\n",
    "response.content.decode()"
   ]
  },
  {
   "cell_type": "code",
   "execution_count": null,
   "metadata": {},
   "outputs": [],
   "source": [
    "import requests\n",
    "SERVICE_URL = \"http://localhost:8001/health\"\n",
    "FILENAME = \"examples/trump_full1.wav\"\n",
    "\n",
    "audio_bytes = {\"file\": open(FILENAME, \"rb\")}\n",
    "response = requests.get(SERVICE_URL, files=audio_bytes)\n",
    "\n",
    "print(response.content.decode())"
   ]
  },
  {
   "cell_type": "code",
   "execution_count": 51,
   "metadata": {},
   "outputs": [
    {
     "name": "stdout",
     "output_type": "stream",
     "text": [
      "{\"status_code\":200,\"speech_timestamps\":\"[{'start': 8224, 'end': 64480}, {'start': 67104, 'end': 128480}]\"}\n"
     ]
    }
   ],
   "source": [
    "import requests\n",
    "SERVICE_URL = \"http://localhost:8001/detect\"\n",
    "FILENAME = \"examples/audio.wav\"\n",
    "\n",
    "audio_bytes = {\"file\": open(FILENAME, \"rb\")}\n",
    "response = requests.post(SERVICE_URL, files=audio_bytes)\n",
    "\n",
    "response = response.content.decode()\n",
    "print(response)"
   ]
  },
  {
   "cell_type": "code",
   "execution_count": 60,
   "metadata": {},
   "outputs": [
    {
     "data": {
      "text/plain": [
       "135440"
      ]
     },
     "execution_count": 60,
     "metadata": {},
     "output_type": "execute_result"
    }
   ],
   "source": [
    "start_time = 0\n",
    "end_time = 5\n",
    "FILENAME = \"examples/audio.wav\"\n",
    "\n",
    "#audio_array = np.array([1,2,3,4,5,6,7])\n",
    "audio_array, _ = librosa.load(path=FILENAME, sr = SAMPLE_RATE, mono = True)\n",
    "split_audio = audio_array[start_time:end_time]\n",
    "\n",
    "len(audio_array)\n"
   ]
  },
  {
   "cell_type": "code",
   "execution_count": null,
   "metadata": {},
   "outputs": [],
   "source": [
    "1587840"
   ]
  }
 ],
 "metadata": {
  "kernelspec": {
   "display_name": "Python 3",
   "language": "python",
   "name": "python3"
  },
  "language_info": {
   "codemirror_mode": {
    "name": "ipython",
    "version": 3
   },
   "file_extension": ".py",
   "mimetype": "text/x-python",
   "name": "python",
   "nbconvert_exporter": "python",
   "pygments_lexer": "ipython3",
   "version": "3.10.12"
  }
 },
 "nbformat": 4,
 "nbformat_minor": 2
}
